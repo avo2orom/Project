{
  "nbformat": 4,
  "nbformat_minor": 0,
  "metadata": {
    "colab": {
      "provenance": [],
      "authorship_tag": "ABX9TyOAjb9DCmUQXepfv9MFEnqe",
      "include_colab_link": true
    },
    "kernelspec": {
      "name": "python3",
      "display_name": "Python 3"
    },
    "language_info": {
      "name": "python"
    }
  },
  "cells": [
    {
      "cell_type": "markdown",
      "metadata": {
        "id": "view-in-github",
        "colab_type": "text"
      },
      "source": [
        "<a href=\"https://colab.research.google.com/github/avo2orom/Project/blob/main/%D0%97%D0%B0%D0%B4%D0%B0%D1%87%D0%B0_6.ipynb\" target=\"_parent\"><img src=\"https://colab.research.google.com/assets/colab-badge.svg\" alt=\"Open In Colab\"/></a>"
      ]
    },
    {
      "cell_type": "code",
      "source": [
        "import warnings\n",
        "import numpy as np\n",
        "import pandas as pd\n",
        "from scipy import stats\n",
        "import math\n",
        "import statistics\n",
        "\n",
        "warnings.filterwarnings('ignore')"
      ],
      "metadata": {
        "id": "rLUp_E1CrD6z"
      },
      "execution_count": 6,
      "outputs": []
    },
    {
      "cell_type": "code",
      "execution_count": 7,
      "metadata": {
        "id": "qgiHKB66piyj"
      },
      "outputs": [],
      "source": [
        "x_mean = 360\n",
        "y_mean = 352\n",
        "x_v = 40\n",
        "y_v = 58\n",
        "n_x = 9802\n",
        "n_y = 9789"
      ]
    },
    {
      "cell_type": "code",
      "source": [
        "t_emp = (x_mean - y_mean) / np.sqrt(x_v / n_x + y_v / n_y)\n",
        "t_emp"
      ],
      "metadata": {
        "colab": {
          "base_uri": "https://localhost:8080/"
        },
        "id": "XQC36dXLqIhy",
        "outputId": "98a18a84-6dd1-424e-9234-572888ef294e"
      },
      "execution_count": 8,
      "outputs": [
        {
          "output_type": "execute_result",
          "data": {
            "text/plain": [
              "79.97673929291017"
            ]
          },
          "metadata": {},
          "execution_count": 8
        }
      ]
    },
    {
      "cell_type": "code",
      "source": [
        "alpha = 0.8\n",
        "n = n_x\n",
        "t1 = stats.t.ppf(alpha / 2, df=2*(n-1))\n",
        "t2 = stats.t.ppf(1 - alpha / 2, df=2*(n-1))\n",
        "t1, t2"
      ],
      "metadata": {
        "colab": {
          "base_uri": "https://localhost:8080/"
        },
        "id": "plOhqK7HrQQ8",
        "outputId": "9490b019-3dcb-48ec-fbc5-dfe62b801b85"
      },
      "execution_count": 11,
      "outputs": [
        {
          "output_type": "execute_result",
          "data": {
            "text/plain": [
              "(-0.25335054169187055, 0.25335054169187055)"
            ]
          },
          "metadata": {},
          "execution_count": 11
        }
      ]
    }
  ]
}