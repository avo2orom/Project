{
  "nbformat": 4,
  "nbformat_minor": 0,
  "metadata": {
    "colab": {
      "provenance": [],
      "authorship_tag": "ABX9TyNqDTZeJ3+BeB2Z2LNlWDCD"
    },
    "kernelspec": {
      "name": "python3",
      "display_name": "Python 3"
    },
    "language_info": {
      "name": "python"
    }
  },
  "cells": [
    {
      "cell_type": "code",
      "source": [
        "import warnings\n",
        "import numpy as np\n",
        "import pandas as pd\n",
        "from scipy import stats\n",
        "import math\n",
        "import statistics\n",
        "\n",
        "warnings.filterwarnings('ignore')"
      ],
      "metadata": {
        "id": "rLUp_E1CrD6z"
      },
      "execution_count": 2,
      "outputs": []
    },
    {
      "cell_type": "code",
      "execution_count": 3,
      "metadata": {
        "id": "qgiHKB66piyj"
      },
      "outputs": [],
      "source": [
        "x_mean = 360\n",
        "y_mean = 352\n",
        "x_v = 40\n",
        "y_v = 58\n",
        "n_x = 9802\n",
        "n_y = 9789"
      ]
    },
    {
      "cell_type": "code",
      "source": [
        "statzn = np.sqrt((x_v/n_x)+(y_v/n_y))\n",
        "statzn"
      ],
      "metadata": {
        "colab": {
          "base_uri": "https://localhost:8080/"
        },
        "id": "XQC36dXLqIhy",
        "outputId": "82039c87-3cf1-448f-fa16-8efc96df35fc"
      },
      "execution_count": 5,
      "outputs": [
        {
          "output_type": "execute_result",
          "data": {
            "text/plain": [
              "0.10002908434039132"
            ]
          },
          "metadata": {},
          "execution_count": 5
        }
      ]
    },
    {
      "cell_type": "code",
      "source": [
        "t = (x_mean-y_mean)/statzn\n",
        "t"
      ],
      "metadata": {
        "colab": {
          "base_uri": "https://localhost:8080/"
        },
        "id": "-RT3SBb9NilH",
        "outputId": "5254ad7c-2a3c-4402-cee6-d2ed758be940"
      },
      "execution_count": 6,
      "outputs": [
        {
          "output_type": "execute_result",
          "data": {
            "text/plain": [
              "79.97673929291017"
            ]
          },
          "metadata": {},
          "execution_count": 6
        }
      ]
    },
    {
      "cell_type": "code",
      "source": [
        "alpha = 0.8\n",
        "n = n_x\n",
        "t1 = stats.t.ppf(alpha / 2, df=2*(n-1))\n",
        "t2 = stats.t.ppf(1 - alpha / 2, df=2*(n-1))\n",
        "t1, t2"
      ],
      "metadata": {
        "colab": {
          "base_uri": "https://localhost:8080/"
        },
        "id": "plOhqK7HrQQ8",
        "outputId": "9490b019-3dcb-48ec-fbc5-dfe62b801b85"
      },
      "execution_count": null,
      "outputs": [
        {
          "output_type": "execute_result",
          "data": {
            "text/plain": [
              "(-0.25335054169187055, 0.25335054169187055)"
            ]
          },
          "metadata": {},
          "execution_count": 11
        }
      ]
    }
  ]
}